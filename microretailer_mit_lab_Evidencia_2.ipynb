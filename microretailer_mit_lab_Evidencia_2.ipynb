{
  "nbformat": 4,
  "nbformat_minor": 0,
  "metadata": {
    "colab": {
      "provenance": [],
      "include_colab_link": true
    },
    "kernelspec": {
      "name": "python3",
      "display_name": "Python 3"
    },
    "language_info": {
      "name": "python"
    }
  },
  "cells": [
    {
      "cell_type": "markdown",
      "metadata": {
        "id": "view-in-github",
        "colab_type": "text"
      },
      "source": [
        "<a href=\"https://colab.research.google.com/github/Thealansan/Evidencia2/blob/main/microretailer_mit_lab_Evidencia_2.ipynb\" target=\"_parent\"><img src=\"https://colab.research.google.com/assets/colab-badge.svg\" alt=\"Open In Colab\"/></a>"
      ]
    },
    {
      "cell_type": "code",
      "source": [
        "#Instalamos librería para análisis de variables categóricas\n",
        "%pip install funpymodeling"
      ],
      "metadata": {
        "id": "AI9cMvKjw7fd",
        "colab": {
          "base_uri": "https://localhost:8080/"
        },
        "outputId": "2d5ddf40-f2de-402b-ba35-03db0829744c"
      },
      "execution_count": null,
      "outputs": [
        {
          "output_type": "stream",
          "name": "stdout",
          "text": [
            "Looking in indexes: https://pypi.org/simple, https://us-python.pkg.dev/colab-wheels/public/simple/\n",
            "Requirement already satisfied: funpymodeling in /usr/local/lib/python3.7/dist-packages (0.1.7)\n",
            "Requirement already satisfied: sklearn<0.1,>=0.0 in /usr/local/lib/python3.7/dist-packages (from funpymodeling) (0.0.post1)\n",
            "Requirement already satisfied: matplotlib<4.0.0,>=3.2.2 in /usr/local/lib/python3.7/dist-packages (from funpymodeling) (3.2.2)\n",
            "Requirement already satisfied: pandas<2.0.0,>=1.0.5 in /usr/local/lib/python3.7/dist-packages (from funpymodeling) (1.3.5)\n",
            "Requirement already satisfied: typing-extensions<4.0.0,>=3.7.4 in /usr/local/lib/python3.7/dist-packages (from funpymodeling) (3.10.0.2)\n",
            "Requirement already satisfied: seaborn<0.11.0,>=0.10.1 in /usr/local/lib/python3.7/dist-packages (from funpymodeling) (0.10.1)\n",
            "Requirement already satisfied: numpy<2.0.0,>=1.18.5 in /usr/local/lib/python3.7/dist-packages (from funpymodeling) (1.21.6)\n",
            "Requirement already satisfied: pyparsing!=2.0.4,!=2.1.2,!=2.1.6,>=2.0.1 in /usr/local/lib/python3.7/dist-packages (from matplotlib<4.0.0,>=3.2.2->funpymodeling) (3.0.9)\n",
            "Requirement already satisfied: python-dateutil>=2.1 in /usr/local/lib/python3.7/dist-packages (from matplotlib<4.0.0,>=3.2.2->funpymodeling) (2.8.2)\n",
            "Requirement already satisfied: cycler>=0.10 in /usr/local/lib/python3.7/dist-packages (from matplotlib<4.0.0,>=3.2.2->funpymodeling) (0.11.0)\n",
            "Requirement already satisfied: kiwisolver>=1.0.1 in /usr/local/lib/python3.7/dist-packages (from matplotlib<4.0.0,>=3.2.2->funpymodeling) (1.4.4)\n",
            "Requirement already satisfied: pytz>=2017.3 in /usr/local/lib/python3.7/dist-packages (from pandas<2.0.0,>=1.0.5->funpymodeling) (2022.6)\n",
            "Requirement already satisfied: six>=1.5 in /usr/local/lib/python3.7/dist-packages (from python-dateutil>=2.1->matplotlib<4.0.0,>=3.2.2->funpymodeling) (1.15.0)\n",
            "Requirement already satisfied: scipy>=1.0.1 in /usr/local/lib/python3.7/dist-packages (from seaborn<0.11.0,>=0.10.1->funpymodeling) (1.7.3)\n"
          ]
        }
      ]
    },
    {
      "cell_type": "code",
      "execution_count": null,
      "metadata": {
        "id": "Zw2Kw3-0_F2V"
      },
      "outputs": [],
      "source": [
        "#Importamos las librerias pandas, numpy y matplotlib respectivamente\n",
        "import pandas as pd\n",
        "import numpy as np\n",
        "import matplotlib.pyplot as plt\n",
        "from funpymodeling.exploratory import freq_tbl"
      ]
    },
    {
      "cell_type": "code",
      "source": [
        "#Cargar archivo excel desde equipo\n",
        "from google.colab import files\n",
        "files.upload()"
      ],
      "metadata": {
        "id": "lP8zbS1Z_N7i"
      },
      "execution_count": null,
      "outputs": []
    },
    {
      "cell_type": "code",
      "source": [
        "#Carga desde un archivo .csv sin indice\n",
        "Retailer= pd.read_excel('microretailer_mit_lift_lab.xlsx')"
      ],
      "metadata": {
        "id": "pP6_yCd__XK3"
      },
      "execution_count": null,
      "outputs": []
    },
    {
      "cell_type": "code",
      "source": [
        "#Verificamos información del Dataframe\n",
        "Retailer.info()"
      ],
      "metadata": {
        "id": "JTCUWLwg_rOw"
      },
      "execution_count": null,
      "outputs": []
    },
    {
      "cell_type": "code",
      "source": [
        "#Creamos copia del dataframe\n",
        "data1=Retailer.copy()\n",
        "data1"
      ],
      "metadata": {
        "id": "8HKziUdgNUFf"
      },
      "execution_count": null,
      "outputs": []
    },
    {
      "cell_type": "markdown",
      "source": [
        "**Reemplazo de valores nulos**"
      ],
      "metadata": {
        "id": "ddtf9YwTCThT"
      }
    },
    {
      "cell_type": "code",
      "source": [
        "#Identificar valores nulos por columna\n",
        "valores_nulos=data1.isnull().sum()\n",
        "valores_nulos"
      ],
      "metadata": {
        "id": "4-bJCtuLDN4_"
      },
      "execution_count": null,
      "outputs": []
    },
    {
      "cell_type": "code",
      "source": [
        "#Realizamos una copia del dataframe\n",
        "data2=data1.copy()"
      ],
      "metadata": {
        "id": "IZ2nwBmH44xo"
      },
      "execution_count": null,
      "outputs": []
    },
    {
      "cell_type": "code",
      "source": [
        "#Utilizamos un metodo con el que sustituimos los valores nulos que esten por detras de valores no nulos por ese mismo valor\n",
        "data2= data1.fillna(method=\"bfill\")\n",
        "data2"
      ],
      "metadata": {
        "id": "Y7fpkZuS50u_"
      },
      "execution_count": null,
      "outputs": []
    },
    {
      "cell_type": "code",
      "source": [
        "#Corroboramos valores nulos\n",
        "valores_nulos=data2.isnull().sum()\n",
        "valores_nulos"
      ],
      "metadata": {
        "id": "QQzajE0u470p"
      },
      "execution_count": null,
      "outputs": []
    },
    {
      "cell_type": "code",
      "source": [
        "#Debido a que todavia nos quedan unos cuantos valores nulos en el dataframe, utilizamos el metodo \"ffill\" para cambiar los valores nulos que esten delante de un valore no nulo para cambiarlo por el mismo valor\n",
        "data3= data2.fillna(method='ffill')\n",
        "data3"
      ],
      "metadata": {
        "id": "63BDo6PH6Z0O"
      },
      "execution_count": null,
      "outputs": []
    },
    {
      "cell_type": "code",
      "source": [
        "#Corroboramos valores nulos\n",
        "valores_nulos=data3.isnull().sum()\n",
        "valores_nulos"
      ],
      "metadata": {
        "id": "qM8Z9UQA5CUn"
      },
      "execution_count": null,
      "outputs": []
    },
    {
      "cell_type": "code",
      "source": [
        "#En caso de que resten unos cuantos valores nulos en el dataframe, utilizamos el metodo de cambiar los valores nulos por un string en concreto para seguridad\n",
        "data4= data3.fillna('no valido')\n",
        "data4"
      ],
      "metadata": {
        "id": "4XaarBBy_ARo"
      },
      "execution_count": null,
      "outputs": []
    },
    {
      "cell_type": "markdown",
      "source": [
        "**Reemplazo de Outliers**"
      ],
      "metadata": {
        "id": "XaGJ8CxNHaqm"
      }
    },
    {
      "cell_type": "code",
      "source": [
        "data5=data4.copy()"
      ],
      "metadata": {
        "id": "E9a2SEcJ9ypM"
      },
      "execution_count": null,
      "outputs": []
    },
    {
      "cell_type": "code",
      "source": [
        "#Realizamos un filtro por filas donde se incluyan unicamente los valores cuantitativos\n",
        "cuantitativas=data5.iloc[:,[13,14,16,21,22,29,31,33,42,49,51,56,57,58,59,60,78,90]] #filas no consecutivas\n",
        "cuantitativas"
      ],
      "metadata": {
        "id": "ukhCr93DOb1l"
      },
      "execution_count": null,
      "outputs": []
    },
    {
      "cell_type": "code",
      "source": [
        "#Realizamos un filtro por filas donde se incluyan unicamente los valores cualitativas\n",
        "cualitativas=data5.iloc[:,[0,1,2,3,4,5,6,7,8,9,10,11,12,15,17,18,19,20,23,24,25,26,27,28,30,32,34,35,36,37,38,39,40,41,42,43,44,45,46,47,48,50,52,53,54,55,61,62,63,64,65,66,67,68,69,70,71,72,73,74,75,76,77,79,80,81,82,83,84,85,86,87,88,89,91,92,93,94,95,96,97,98,99,100,101,102,103,104,105]] #filas no consecutivas\n",
        "cualitativas"
      ],
      "metadata": {
        "id": "QCXai22IQhob"
      },
      "execution_count": null,
      "outputs": []
    },
    {
      "cell_type": "code",
      "source": [
        "#Corroboramos valores nulos\n",
        "valores_nulos=cuantitativas.isnull().sum()\n",
        "valores_nulos"
      ],
      "metadata": {
        "id": "muS4KdfDHqmu"
      },
      "execution_count": null,
      "outputs": []
    },
    {
      "cell_type": "code",
      "source": [
        "#Aplicanmos desviación estandar para encontrar valores extremos\n",
        "y=cuantitativas\n",
        "Limite_Superior= y.mean() +3*y.std()\n",
        "Limite_Inferior= y.mean() -3*y.std()\n",
        "print(\"Limite superior permitido\", Limite_Superior)\n",
        "print(\"Limite inferior permitido\", Limite_Inferior)"
      ],
      "metadata": {
        "id": "gG4qxflbHxr_"
      },
      "execution_count": null,
      "outputs": []
    },
    {
      "cell_type": "code",
      "source": [
        "#Encontramos Outliers del Dataframe\n",
        "outliers= cuantitativas[(y>Limite_Superior)|(y<Limite_Inferior)]\n",
        "outliers"
      ],
      "metadata": {
        "id": "AJkX697NSo2k"
      },
      "execution_count": null,
      "outputs": []
    },
    {
      "cell_type": "code",
      "source": [
        "#Obtenemos datos limpios\n",
        "data5= cuantitativas[(y<=Limite_Superior)&(y>=Limite_Inferior)]\n",
        "data5"
      ],
      "metadata": {
        "id": "N9ZQqYjJS-sm"
      },
      "execution_count": null,
      "outputs": []
    },
    {
      "cell_type": "code",
      "source": [
        "#Revisamos valores atípicos (nulos) del dataframe4\n",
        "valores_nulos=data5.isnull().sum()\n",
        "valores_nulos"
      ],
      "metadata": {
        "id": "Pzk2A9tsTLX1"
      },
      "execution_count": null,
      "outputs": []
    },
    {
      "cell_type": "code",
      "source": [
        "#Reemplazamos valores atípicos (nulos) del dataframe con \"mean\"\n",
        "#Realizamos una copia del dataframe\n",
        "data_clean=data5.copy()\n",
        "data_clean=data_clean.fillna(round(data4.mean(),1))\n",
        "data_clean"
      ],
      "metadata": {
        "id": "xjlT2Q9GTRYr"
      },
      "execution_count": null,
      "outputs": []
    },
    {
      "cell_type": "code",
      "source": [
        "#Corroboramos valores nulos del dataframe LIMPIO\n",
        "valores_nulos=data_clean.isnull().sum()\n",
        "valores_nulos"
      ],
      "metadata": {
        "id": "h8dyBQlpTXfQ"
      },
      "execution_count": null,
      "outputs": []
    },
    {
      "cell_type": "code",
      "source": [
        "#Unimos las columnas cuantitativas y cualitativas en un mismo dataframe\n",
        "Datos_limpios = pd.concat([cualitativas, data_clean], axis=1)\n",
        "Datos_limpios"
      ],
      "metadata": {
        "id": "lU3qgbnJTgzp"
      },
      "execution_count": null,
      "outputs": []
    },
    {
      "cell_type": "markdown",
      "source": [
        "**Descargamos el dataframe de los valores limpios**"
      ],
      "metadata": {
        "id": "C2x1CKA4jTr5"
      }
    },
    {
      "cell_type": "code",
      "source": [
        "#Convertir Dataframe a CSV\n",
        "Datos_limpios.to_csv(\"Datos_limpios_Micro_retailer.csv\")"
      ],
      "metadata": {
        "id": "1yuEh-bQjTr5"
      },
      "execution_count": null,
      "outputs": []
    },
    {
      "cell_type": "code",
      "source": [
        "#descargar archivo filtrado en csv\n",
        "from google.colab import files\n",
        "\n",
        "files.download(\"Datos_limpios_Micro_retailer.csv\")"
      ],
      "metadata": {
        "id": "oAjk7mXWjTr5"
      },
      "execution_count": null,
      "outputs": []
    },
    {
      "cell_type": "markdown",
      "source": [
        "**Tratamiento de variables (filtrado)**"
      ],
      "metadata": {
        "id": "C8HvapNT1MEO"
      }
    },
    {
      "cell_type": "code",
      "source": [
        "#Realizamos otro filtro por filas donde se incluyan las vafriables que se van a utilizar para la visualización y extracción\n",
        "variables_buenas=data4.iloc[:,[9,23,24,26,27,35,47,52,53,84,85,89,91,98,]]\n",
        "variables_buenas"
      ],
      "metadata": {
        "id": "UWjHlT6-1PYy"
      },
      "execution_count": null,
      "outputs": []
    },
    {
      "cell_type": "code",
      "source": [
        "#Obtengo  un analisis univariado de las variables categóricas\n",
        "freq_tbl(variables_buenas)"
      ],
      "metadata": {
        "id": "ge7BJRYY1Pbh"
      },
      "execution_count": null,
      "outputs": []
    },
    {
      "cell_type": "markdown",
      "source": [
        "**Descargamos el dataframe de los valores seleccionados**"
      ],
      "metadata": {
        "id": "mou7j1aJ9HzM"
      }
    },
    {
      "cell_type": "code",
      "source": [
        "#Convertir Dataframe a CSV\n",
        "variables_buenas.to_csv(\"variables_buenas_Micro_retailer.csv\")"
      ],
      "metadata": {
        "id": "rFDzRmbhTdf8"
      },
      "execution_count": null,
      "outputs": []
    },
    {
      "cell_type": "code",
      "source": [
        "#descargar archivo filtrado en csv\n",
        "from google.colab import files\n",
        "\n",
        "files.download(\"variables_buenas_Micro_retailer.csv\")"
      ],
      "metadata": {
        "id": "uLoMZdhzT3vE"
      },
      "execution_count": null,
      "outputs": []
    },
    {
      "cell_type": "markdown",
      "source": [
        "**variable 1**"
      ],
      "metadata": {
        "id": "BcTuQjI78JTh"
      }
    },
    {
      "cell_type": "code",
      "source": [
        "#Obtengo un analisis univariado de una variable categórica en especifico\n",
        "table1= freq_tbl(variables_buenas['232_type_of_store'])\n",
        "table1"
      ],
      "metadata": {
        "id": "YsqeFPAh1PeW"
      },
      "execution_count": null,
      "outputs": []
    },
    {
      "cell_type": "code",
      "source": [
        "#Obtengo un filtro de los valores mas relevantes de las variables categoricas seleccionadas\n",
        "Filtro= table1[table1['cumulative_perc']<0.85]\n",
        "Filtro"
      ],
      "metadata": {
        "id": "rC_Xi_to1P5Z"
      },
      "execution_count": null,
      "outputs": []
    },
    {
      "cell_type": "code",
      "source": [
        "#Ajusto el indice de mi dataframe\n",
        "Filtro_index= Filtro.set_index('232_type_of_store')\n",
        "Filtro_index"
      ],
      "metadata": {
        "id": "jV-Y-nGg1P8E"
      },
      "execution_count": null,
      "outputs": []
    },
    {
      "cell_type": "code",
      "source": [
        "#Realizamos gráfico de barras del datarame filtrado\n",
        "Filtro_index.plot(kind = 'bar', width=1, figsize=(10,4))\n",
        "plt.title('Tipo de tienda')\n",
        "plt.xlabel('Tipo de tienda')\n",
        "plt.ylabel('Frecuencia')"
      ],
      "metadata": {
        "id": "IxVpTwTw1P-3"
      },
      "execution_count": null,
      "outputs": []
    },
    {
      "cell_type": "markdown",
      "source": [
        "**variable 2**"
      ],
      "metadata": {
        "id": "YVLRLB8h8NVN"
      }
    },
    {
      "cell_type": "code",
      "source": [
        "#Obtengo un analisis univariado de una variable categórica en especifico\n",
        "table2= freq_tbl(variables_buenas['5_change_store_space_last_year'])\n",
        "table2"
      ],
      "metadata": {
        "id": "WrGlszBP87f2"
      },
      "execution_count": null,
      "outputs": []
    },
    {
      "cell_type": "code",
      "source": [
        "#Obtengo un filtro de los valores mas relevantes de las variables categoricas seleccionadas\n",
        "Filtro= table2[table2['frequency']>6]\n",
        "Filtro"
      ],
      "metadata": {
        "id": "JTEpkO7887f2"
      },
      "execution_count": null,
      "outputs": []
    },
    {
      "cell_type": "code",
      "source": [
        "#Ajusto el indice de mi dataframe\n",
        "Filtro_index= Filtro.set_index('5_change_store_space_last_year')\n",
        "Filtro_index"
      ],
      "metadata": {
        "id": "IWi0IF8b87f2"
      },
      "execution_count": null,
      "outputs": []
    },
    {
      "cell_type": "code",
      "source": [
        "#Realizamos gráfico de pastel del dataframe filtrado\n",
        "Filtro_index['frequency'].plot(kind='pie', figsize=(10,5), shadow=True, autopct='%0.1f %%')"
      ],
      "metadata": {
        "id": "4BrJudxi87f2"
      },
      "execution_count": null,
      "outputs": []
    },
    {
      "cell_type": "markdown",
      "source": [
        "**variable 3**"
      ],
      "metadata": {
        "id": "ZlYUdNKs8PVp"
      }
    },
    {
      "cell_type": "code",
      "source": [
        "#Obtengo un analisis univariado de una variable categórica en especifico\n",
        "table3= freq_tbl(variables_buenas['6_change_employees_average_salary_last_year'])\n",
        "table3"
      ],
      "metadata": {
        "id": "ieMplScD88GM"
      },
      "execution_count": null,
      "outputs": []
    },
    {
      "cell_type": "code",
      "source": [
        "#Obtengo un filtro de los valores mas relevantes de las variables categoricas seleccionadas\n",
        "Filtro= table3[table3['frequency']>1]\n",
        "Filtro"
      ],
      "metadata": {
        "id": "bfgZmVhV88GM"
      },
      "execution_count": null,
      "outputs": []
    },
    {
      "cell_type": "code",
      "source": [
        "#Ajusto el indice de mi dataframe\n",
        "Filtro_index= Filtro.set_index('6_change_employees_average_salary_last_year')\n",
        "Filtro_index"
      ],
      "metadata": {
        "id": "5P_gtsla88GN"
      },
      "execution_count": null,
      "outputs": []
    },
    {
      "cell_type": "code",
      "source": [
        "#Realizamos gráfico de barras del datarame filtrado\n",
        "Filtro_index.plot(kind = 'bar', width=1, figsize=(10,4))\n",
        "plt.title('Cambio de salario en empleados')\n",
        "plt.xlabel('Tipo de cambio')\n",
        "plt.ylabel('Frecuencia')"
      ],
      "metadata": {
        "id": "_DrhYE1g88GN"
      },
      "execution_count": null,
      "outputs": []
    },
    {
      "cell_type": "markdown",
      "source": [
        "**variable 4**"
      ],
      "metadata": {
        "id": "-mkjj-lB8XVj"
      }
    },
    {
      "cell_type": "code",
      "source": [
        "#Obtengo un analisis univariado de una variable categórica en especifico\n",
        "table4= freq_tbl(variables_buenas['49_inventory_records'])\n",
        "table4"
      ],
      "metadata": {
        "id": "1ELO59GN88qP"
      },
      "execution_count": null,
      "outputs": []
    },
    {
      "cell_type": "code",
      "source": [
        "#Obtengo un filtro de los valores mas relevantes de las variables categoricas seleccionadas\n",
        "Filtro= table4[table4['frequency']>1]\n",
        "Filtro"
      ],
      "metadata": {
        "id": "2kHf92pO88qP"
      },
      "execution_count": null,
      "outputs": []
    },
    {
      "cell_type": "code",
      "source": [
        "#Ajusto el indice de mi dataframe\n",
        "Filtro_index= Filtro.set_index('49_inventory_records')\n",
        "Filtro_index"
      ],
      "metadata": {
        "id": "WXR_m69A88qP"
      },
      "execution_count": null,
      "outputs": []
    },
    {
      "cell_type": "code",
      "source": [
        "#Realizamos gráfico de barras del datarame filtrado\n",
        "Filtro_index.plot(kind = 'bar', width=1, figsize=(10,4))\n",
        "plt.title('Registro de niveles de inventario')\n",
        "plt.xlabel('Tipo de registro')\n",
        "plt.ylabel('Frecuencia')"
      ],
      "metadata": {
        "id": "QWM6Jtp688qP"
      },
      "execution_count": null,
      "outputs": []
    },
    {
      "cell_type": "markdown",
      "source": [
        "**variable 5**"
      ],
      "metadata": {
        "id": "4tdctt6A8Zlw"
      }
    },
    {
      "cell_type": "code",
      "source": [
        "#Obtengo un analisis univariado de una variable categórica en especifico\n",
        "table5= freq_tbl(variables_buenas['18_sales_records'])\n",
        "table5"
      ],
      "metadata": {
        "id": "lyTEkgjB89RZ"
      },
      "execution_count": null,
      "outputs": []
    },
    {
      "cell_type": "code",
      "source": [
        "#Obtengo un filtro de los valores mas relevantes de las variables categoricas seleccionadas\n",
        "Filtro= table5[table5['frequency']>4]\n",
        "Filtro"
      ],
      "metadata": {
        "id": "ZVxVCp8C89RZ"
      },
      "execution_count": null,
      "outputs": []
    },
    {
      "cell_type": "code",
      "source": [
        "#Ajusto el indice de mi dataframe\n",
        "Filtro_index= Filtro.set_index('18_sales_records')\n",
        "Filtro_index"
      ],
      "metadata": {
        "id": "B54O9NF689RZ"
      },
      "execution_count": null,
      "outputs": []
    },
    {
      "cell_type": "code",
      "source": [
        "#Realizamos grafico hexagonal del dataframe filtrado, alternativo al scatter plot\n",
        "Filtro_index.plot.hexbin('frequency', 'cumulative_perc', figsize=(10,5))"
      ],
      "metadata": {
        "id": "SA2yIPcT89Ra"
      },
      "execution_count": null,
      "outputs": []
    },
    {
      "cell_type": "markdown",
      "source": [
        "**variable 6**"
      ],
      "metadata": {
        "id": "GDSORzXO8fQI"
      }
    },
    {
      "cell_type": "code",
      "source": [
        "#Obtengo un analisis univariado de una variable categórica en especifico\n",
        "table6= freq_tbl(variables_buenas['210_sales_channels'])\n",
        "table6"
      ],
      "metadata": {
        "id": "50S4TNhM893p"
      },
      "execution_count": null,
      "outputs": []
    },
    {
      "cell_type": "code",
      "source": [
        "#Obtengo un filtro de los valores mas relevantes de las variables categoricas seleccionadas\n",
        "Filtro= table6[table6['frequency']>4]\n",
        "Filtro"
      ],
      "metadata": {
        "id": "AwoPjZDJ893r"
      },
      "execution_count": null,
      "outputs": []
    },
    {
      "cell_type": "code",
      "source": [
        "#Ajusto el indice de mi dataframe\n",
        "Filtro_index= Filtro.set_index('210_sales_channels')\n",
        "Filtro_index"
      ],
      "metadata": {
        "id": "ahdEXoMz893r"
      },
      "execution_count": null,
      "outputs": []
    },
    {
      "cell_type": "code",
      "source": [
        "#Realizamos gráfico de barras del datarame filtrado\n",
        "Filtro_index.plot(kind = 'bar', width=1, figsize=(10,4))\n",
        "plt.title('Otros tipos de ventas')\n",
        "plt.xlabel('Tipo de venta')\n",
        "plt.ylabel('Frecuencia')"
      ],
      "metadata": {
        "id": "FZ_gpY9i893s"
      },
      "execution_count": null,
      "outputs": []
    },
    {
      "cell_type": "markdown",
      "source": [
        "**variable 7**"
      ],
      "metadata": {
        "id": "PPhBWgxp8fiJ"
      }
    },
    {
      "cell_type": "code",
      "source": [
        "#Obtengo un analisis univariado de una variable categórica en especifico\n",
        "table7= freq_tbl(variables_buenas['214_customer_relationship_tools'])\n",
        "table7"
      ],
      "metadata": {
        "id": "ytyOjffk8-fm"
      },
      "execution_count": null,
      "outputs": []
    },
    {
      "cell_type": "code",
      "source": [
        "#Obtengo un filtro de los valores mas relevantes de las variables categoricas seleccionadas\n",
        "Filtro= table7[table7['frequency']>2]\n",
        "Filtro"
      ],
      "metadata": {
        "id": "QKo0F5DE8-fn"
      },
      "execution_count": null,
      "outputs": []
    },
    {
      "cell_type": "code",
      "source": [
        "#Ajusto el indice de mi dataframe\n",
        "Filtro_index= Filtro.set_index('214_customer_relationship_tools')\n",
        "Filtro_index"
      ],
      "metadata": {
        "id": "IWiN6-YO8-fn"
      },
      "execution_count": null,
      "outputs": []
    },
    {
      "cell_type": "code",
      "source": [
        "#Realizamos gráfico de pastel del dataframe filtrado\n",
        "Filtro_index['frequency'].plot(kind='pie', figsize=(20,10), shadow=True, autopct='%0.1f %%')"
      ],
      "metadata": {
        "id": "1kxXXOj28-fn"
      },
      "execution_count": null,
      "outputs": []
    },
    {
      "cell_type": "markdown",
      "source": [
        "**variable 8**"
      ],
      "metadata": {
        "id": "ExQe91o98fkg"
      }
    },
    {
      "cell_type": "code",
      "source": [
        "#Obtengo un analisis univariado de una variable categórica en especifico\n",
        "table8= freq_tbl(variables_buenas['38_average_margin_profits'])\n",
        "table8"
      ],
      "metadata": {
        "id": "LKIy70AN8_AR"
      },
      "execution_count": null,
      "outputs": []
    },
    {
      "cell_type": "code",
      "source": [
        "#Obtengo un filtro de los valores mas relevantes de las variables categoricas seleccionadas\n",
        "Filtro= table8[table8['frequency']>12]\n",
        "Filtro"
      ],
      "metadata": {
        "id": "bQdzAQGD_7Z5"
      },
      "execution_count": null,
      "outputs": []
    },
    {
      "cell_type": "code",
      "source": [
        "#Ajusto el indice de mi dataframe\n",
        "Filtro_index= Filtro.set_index('38_average_margin_profits')\n",
        "Filtro_index"
      ],
      "metadata": {
        "id": "DKDVI4mU8_AS"
      },
      "execution_count": null,
      "outputs": []
    },
    {
      "cell_type": "code",
      "source": [
        "#Realizamos gráfico de barras del datarame filtrado\n",
        "Filtro_index.plot(kind = 'bar', width=1, figsize=(10,4))\n",
        "plt.title('Ganancia de los productos')\n",
        "plt.xlabel('Margen de ganancia')\n",
        "plt.ylabel('Frecuencia')"
      ],
      "metadata": {
        "id": "dGke0JxR8_AS"
      },
      "execution_count": null,
      "outputs": []
    },
    {
      "cell_type": "markdown",
      "source": [
        "**variable 9**"
      ],
      "metadata": {
        "id": "Qxh9cboA8fnF"
      }
    },
    {
      "cell_type": "code",
      "source": [
        "#Obtengo un analisis univariado de una variable categórica en especifico\n",
        "table9= freq_tbl(variables_buenas['193_sales_planning_tools'])\n",
        "table9"
      ],
      "metadata": {
        "id": "BJSn1hB78_ls"
      },
      "execution_count": null,
      "outputs": []
    },
    {
      "cell_type": "code",
      "source": [
        "#Obtengo un filtro de los valores mas relevantes de las variables categoricas seleccionadas\n",
        "Filtro= table9[table9['frequency']>3]\n",
        "Filtro"
      ],
      "metadata": {
        "id": "9Pgyf66Z8_ls"
      },
      "execution_count": null,
      "outputs": []
    },
    {
      "cell_type": "code",
      "source": [
        "#Ajusto el indice de mi dataframe\n",
        "Filtro_index= Filtro.set_index('193_sales_planning_tools')\n",
        "Filtro_index"
      ],
      "metadata": {
        "id": "5uR-XvX68_ls"
      },
      "execution_count": null,
      "outputs": []
    },
    {
      "cell_type": "code",
      "source": [
        "#Realizamos gráfico de barras del datarame filtrado\n",
        "Filtro_index.plot(kind = 'bar', width=1, figsize=(10,4))\n",
        "plt.title('Herramientas para planear ventas')\n",
        "plt.xlabel('Tipo de herramienta')\n",
        "plt.ylabel('Frecuencia')"
      ],
      "metadata": {
        "id": "7KowPn4g8_ls"
      },
      "execution_count": null,
      "outputs": []
    },
    {
      "cell_type": "markdown",
      "source": [
        "**variable 10**"
      ],
      "metadata": {
        "id": "ofyYVKzW8fpc"
      }
    },
    {
      "cell_type": "code",
      "source": [
        "#Obtengo un analisis univariado de una variable categórica en especifico\n",
        "table10= freq_tbl(variables_buenas['56_procurement_changes_pandemic'])\n",
        "table10"
      ],
      "metadata": {
        "id": "cJIRdW4S9AG4"
      },
      "execution_count": null,
      "outputs": []
    },
    {
      "cell_type": "code",
      "source": [
        "#Obtengo un filtro de los valores mas relevantes de las variables categoricas seleccionadas\n",
        "Filtro= table10[table10['frequency']>100]\n",
        "Filtro"
      ],
      "metadata": {
        "id": "KjtiwIyq9AG4"
      },
      "execution_count": null,
      "outputs": []
    },
    {
      "cell_type": "code",
      "source": [
        "#Ajusto el indice de mi dataframe\n",
        "Filtro_index= Filtro.set_index('56_procurement_changes_pandemic')\n",
        "Filtro_index"
      ],
      "metadata": {
        "id": "d17iJJLs9AG5"
      },
      "execution_count": null,
      "outputs": []
    },
    {
      "cell_type": "code",
      "source": [
        "#Realizamos gráfico de pastel del dataframe filtrado\n",
        "Filtro_index['frequency'].plot(kind='pie', figsize=(10,5), shadow=True, autopct='%0.1f %%')"
      ],
      "metadata": {
        "id": "PFM9C8e79AG5"
      },
      "execution_count": null,
      "outputs": []
    },
    {
      "cell_type": "markdown",
      "source": [
        "**variable 11**"
      ],
      "metadata": {
        "id": "NB-Wa8L08fr2"
      }
    },
    {
      "cell_type": "code",
      "source": [
        "#Obtengo un analisis univariado de una variable categórica en especifico\n",
        "table11= freq_tbl(variables_buenas['279_changes_procurement_pandemic'])\n",
        "table11"
      ],
      "metadata": {
        "id": "IVRhj9Uv9Ak_"
      },
      "execution_count": null,
      "outputs": []
    },
    {
      "cell_type": "code",
      "source": [
        "#Obtengo un filtro de los valores mas relevantes de las variables categoricas seleccionadas\n",
        "Filtro= table11[table11['frequency']>5]\n",
        "Filtro"
      ],
      "metadata": {
        "id": "saQ6tv9V9Ak_"
      },
      "execution_count": null,
      "outputs": []
    },
    {
      "cell_type": "code",
      "source": [
        "#Ajusto el indice de mi dataframe\n",
        "Filtro_index= Filtro.set_index('279_changes_procurement_pandemic')\n",
        "Filtro_index"
      ],
      "metadata": {
        "id": "Iyz0nVIy9Ak_"
      },
      "execution_count": null,
      "outputs": []
    },
    {
      "cell_type": "code",
      "source": [
        "#Realizamos gráfico de pastel del dataframe filtrado\n",
        "Filtro_index['frequency'].plot(kind='pie', figsize=(15,7), shadow=True, autopct='%0.1f %%')"
      ],
      "metadata": {
        "id": "BagUzJhk9Ak_"
      },
      "execution_count": null,
      "outputs": []
    },
    {
      "cell_type": "markdown",
      "source": [
        "**variable 12**"
      ],
      "metadata": {
        "id": "HGRzHzIN8fuE"
      }
    },
    {
      "cell_type": "code",
      "source": [
        "#Obtengo un analisis univariado de una variable categórica en especifico\n",
        "table12= freq_tbl(variables_buenas['162_inventory_extra_space'])\n",
        "table12"
      ],
      "metadata": {
        "id": "FeNJam7J9BFy"
      },
      "execution_count": null,
      "outputs": []
    },
    {
      "cell_type": "code",
      "source": [
        "#Obtengo un filtro de los valores mas relevantes de las variables categoricas seleccionadas\n",
        "Filtro= table12[table12['frequency']>6]\n",
        "Filtro"
      ],
      "metadata": {
        "id": "ywCkxlRe9BFz"
      },
      "execution_count": null,
      "outputs": []
    },
    {
      "cell_type": "code",
      "source": [
        "#Ajusto el indice de mi dataframe\n",
        "Filtro_index= Filtro.set_index('162_inventory_extra_space')\n",
        "Filtro_index"
      ],
      "metadata": {
        "id": "xi7v6vR59BFz"
      },
      "execution_count": null,
      "outputs": []
    },
    {
      "cell_type": "code",
      "source": [
        "#Realizamos gráfico de pastel del dataframe filtrado\n",
        "Filtro_index['frequency'].plot(kind='pie', figsize=(10,5), shadow=True, autopct='%0.1f %%')"
      ],
      "metadata": {
        "id": "b0fodTDC9BFz"
      },
      "execution_count": null,
      "outputs": []
    },
    {
      "cell_type": "markdown",
      "source": [
        "**variable 13**"
      ],
      "metadata": {
        "id": "feq_HV8b8fwL"
      }
    },
    {
      "cell_type": "code",
      "source": [
        "#Obtengo un analisis univariado de una variable categórica en especifico\n",
        "table13= freq_tbl(variables_buenas['249_technology_training'])\n",
        "table13"
      ],
      "metadata": {
        "id": "S8fjMYZQ9C-L"
      },
      "execution_count": null,
      "outputs": []
    },
    {
      "cell_type": "code",
      "source": [
        "#Obtengo un filtro de los valores mas relevantes de las variables categoricas seleccionadas\n",
        "Filtro= table13[table13['frequency']>2]\n",
        "Filtro"
      ],
      "metadata": {
        "id": "eBkJYyYW9C-M"
      },
      "execution_count": null,
      "outputs": []
    },
    {
      "cell_type": "code",
      "source": [
        "#Ajusto el indice de mi dataframe\n",
        "Filtro_index= Filtro.set_index('249_technology_training')\n",
        "Filtro_index"
      ],
      "metadata": {
        "id": "TKregSCH9C-M"
      },
      "execution_count": null,
      "outputs": []
    },
    {
      "cell_type": "code",
      "source": [
        "#Realizamos gráfico de pastel del dataframe filtrado\n",
        "Filtro_index['frequency'].plot(kind='pie', figsize=(15,8), shadow=True, autopct='%0.1f %%')"
      ],
      "metadata": {
        "id": "v1gx4upN9C-M"
      },
      "execution_count": null,
      "outputs": []
    },
    {
      "cell_type": "markdown",
      "source": [
        "**variable 14**"
      ],
      "metadata": {
        "id": "5hhnZ2xD8fyZ"
      }
    },
    {
      "cell_type": "code",
      "source": [
        "#Obtengo un analisis univariado de una variable categórica en especifico\n",
        "table14= freq_tbl(variables_buenas['263_technology_secure_sales'])\n",
        "table14"
      ],
      "metadata": {
        "id": "oXjt0pts9Dft"
      },
      "execution_count": null,
      "outputs": []
    },
    {
      "cell_type": "code",
      "source": [
        "#Obtengo un filtro de los valores mas relevantes de las variables categoricas seleccionadas\n",
        "Filtro= table14[table14['frequency']>1]\n",
        "Filtro"
      ],
      "metadata": {
        "id": "fE2PUQli9Dfu"
      },
      "execution_count": null,
      "outputs": []
    },
    {
      "cell_type": "code",
      "source": [
        "#Ajusto el indice de mi dataframe\n",
        "Filtro_index= Filtro.set_index('263_technology_secure_sales')\n",
        "Filtro_index"
      ],
      "metadata": {
        "id": "3rALCi2X9Dfu"
      },
      "execution_count": null,
      "outputs": []
    },
    {
      "cell_type": "code",
      "source": [
        "#Realizamos gráfico de pastel del dataframe filtrado\n",
        "Filtro_index['frequency'].plot(kind='pie', figsize=(10,5), shadow=True, autopct='%0.1f %%')"
      ],
      "metadata": {
        "id": "jabpQlyk9Dfu"
      },
      "execution_count": null,
      "outputs": []
    }
  ]
}